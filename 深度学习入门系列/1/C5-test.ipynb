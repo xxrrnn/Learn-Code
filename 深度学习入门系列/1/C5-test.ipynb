{
 "cells": [
  {
   "cell_type": "markdown",
   "source": [
    "Affine层"
   ],
   "metadata": {
    "collapsed": false
   },
   "id": "70d3c90713996efb"
  },
  {
   "cell_type": "code",
   "execution_count": 16,
   "id": "initial_id",
   "metadata": {
    "collapsed": true,
    "ExecuteTime": {
     "end_time": "2023-12-28T10:17:54.703915700Z",
     "start_time": "2023-12-28T10:17:54.673196700Z"
    }
   },
   "outputs": [
    {
     "name": "stdout",
     "output_type": "stream",
     "text": [
      "[[14 19 24]]\n"
     ]
    }
   ],
   "source": [
    "import numpy as np\n",
    "X = np.array([[1,3]])\n",
    "W = np.array([[1,2,3],[4,5,6]])\n",
    "B = np.array([1,1,1])\n",
    "\n",
    "Y = np.dot(X,W) + B\n",
    "print(Y)"
   ]
  },
  {
   "cell_type": "code",
   "execution_count": null,
   "outputs": [],
   "source": [],
   "metadata": {
    "collapsed": false
   },
   "id": "ba659e4a9a827287"
  }
 ],
 "metadata": {
  "kernelspec": {
   "display_name": "Python 3",
   "language": "python",
   "name": "python3"
  },
  "language_info": {
   "codemirror_mode": {
    "name": "ipython",
    "version": 2
   },
   "file_extension": ".py",
   "mimetype": "text/x-python",
   "name": "python",
   "nbconvert_exporter": "python",
   "pygments_lexer": "ipython2",
   "version": "2.7.6"
  }
 },
 "nbformat": 4,
 "nbformat_minor": 5
}
