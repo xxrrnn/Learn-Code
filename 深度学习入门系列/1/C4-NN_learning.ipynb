{
 "cells": [
  {
   "cell_type": "markdown",
   "source": [
    "损失函数"
   ],
   "metadata": {
    "collapsed": false
   },
   "id": "4eabfc97d4de8639"
  },
  {
   "cell_type": "code",
   "execution_count": null,
   "id": "initial_id",
   "metadata": {
    "collapsed": true,
    "ExecuteTime": {
     "end_time": "2023-10-28T12:14:20.445669600Z",
     "start_time": "2023-10-28T12:14:20.445669600Z"
    }
   },
   "outputs": [],
   "source": [
    "import numpy as np\n",
    "\n",
    "\n",
    "def mean_squared_error(y,t):\n",
    "    return 0.5 * np.sum((y-t)**2)\n",
    "\n",
    "# delta为防止log(0)\n",
    "# def cross_entropy_error(y,t):\n",
    "#     delta = 1e-7\n",
    "#     return -np.sum(t * np.log(y + delta))\n",
    "# mini-batch版本\n",
    "def cross_entropy_error(y,t):\n",
    "    if y.ndim == 1:\n",
    "        t = t.reshape(1, t.size)\n",
    "        y = y.reshape(1, y.size)\n",
    "        \n",
    "    batch_size = y.shape[0]\n",
    "    return -np.sum(t * np.log(y + 1e-7))/batch_size\n",
    "\n",
    "def cross_entropy_error_not_one_hot(y,t):\n",
    "    if y.ndim == 1:\n",
    "        t = t.reshape(1, t.size)\n",
    "        y = y.reshape(1, y.size)\n",
    "        \n",
    "    batch_size = y.shape[0]\n",
    "    return -np.sum(np.log(y[np.arange(batch_size),t]+ 1e-7))/batch_size"
   ]
  },
  {
   "cell_type": "markdown",
   "source": [
    "minibatch学习：神经网络的学习也是从训练数据中选出一批数据（称为mini-batch,小批量），然后对每个mini-batch进行学习。比如，从60000个训练数据中随机选择100笔，再用这100笔数据进行学习。这种学习方式称为mini-batch学习"
   ],
   "metadata": {
    "collapsed": false
   },
   "id": "c0d66b2603d19239"
  },
  {
   "cell_type": "code",
   "execution_count": null,
   "outputs": [],
   "source": [
    "import sys, os\n",
    "sys.path.append(os.pardir)  # 为了导入父目录的文件而进行的设定\n",
    "import numpy as np\n",
    "from sample_code.dataset.mnist import load_mnist\n",
    "from PIL import Image\n",
    "\n",
    "\n",
    "def img_show(img):\n",
    "    pil_img = Image.fromarray(np.uint8(img))\n",
    "    pil_img.show()\n",
    "\n",
    "(x_train, t_train), (x_test, t_test) = load_mnist(flatten=True, normalize=False)\n",
    "\n",
    "train_size = x_train.shape[0]\n",
    "batch_size = 10\n",
    "batch_mask = np.random.choice(train_size,batch_size)\n",
    "x_batch = x_train[batch_mask]\n",
    "t_batch = t_train[batch_mask]\n",
    "print(x_batch,t_batch)\n",
    "print(batch_mask)"
   ],
   "metadata": {
    "collapsed": false,
    "ExecuteTime": {
     "start_time": "2023-10-28T12:14:20.448010700Z"
    }
   },
   "id": "4c97706c8642963e"
  },
  {
   "cell_type": "markdown",
   "source": [
    "ndim输出的是维度，还是和形状shape不一样的"
   ],
   "metadata": {
    "collapsed": false
   },
   "id": "811a5f89993f7466"
  },
  {
   "cell_type": "code",
   "execution_count": null,
   "outputs": [],
   "source": [
    "t = np.array([[1,2],[4,5],[8,9]])\n",
    "print(t.size)\n",
    "print(t.ndim)\n",
    "print(t.shape)"
   ],
   "metadata": {
    "collapsed": false,
    "ExecuteTime": {
     "start_time": "2023-10-28T12:14:20.450555400Z"
    }
   },
   "id": "534d4270508ce48f"
  },
  {
   "cell_type": "markdown",
   "source": [
    "数值微分"
   ],
   "metadata": {
    "collapsed": false
   },
   "id": "5c9c199dd7e9131f"
  },
  {
   "cell_type": "code",
   "execution_count": null,
   "outputs": [],
   "source": [
    "# 导数\n",
    "import numpy as np\n",
    "import matplotlib.pylab as plt\n",
    "def numerical_diff(f,x):\n",
    "    h = 1e-5\n",
    "    return (f(x+h)-f(x-h)) / (2*h)\n",
    "\n",
    "def function_1(x):\n",
    "    return 0.01*x**2 + 0.1*x\n",
    "def function_2(x):\n",
    "    return x[0] ** 2 + x[1] ** 2 + x[2] ** 3\n",
    "x = np.arange(0.0,20.0,0.1)\n",
    "y = function_1(x)\n",
    "plt.xlabel(\"x\")\n",
    "plt.ylabel(\"f(x)\")\n",
    "plt.plot(x,y)\n",
    "plt.show()\n",
    "\n",
    "print(numerical_diff(function_1,5))\n",
    "print(numerical_diff(function_1,10))"
   ],
   "metadata": {
    "collapsed": false,
    "ExecuteTime": {
     "end_time": "2023-10-28T12:14:20.462406900Z",
     "start_time": "2023-10-28T12:14:20.455562500Z"
    }
   },
   "id": "8c3a59bd8341777a"
  },
  {
   "cell_type": "markdown",
   "source": [
    "梯度 gradient: 梯度表示的是各点处的函数值减小最多的方向\n",
    "鞍点是从某个方向上看是极大值，从另一个方向上看则是极小值的点。"
   ],
   "metadata": {
    "collapsed": false
   },
   "id": "86b6239ace44f651"
  },
  {
   "cell_type": "code",
   "execution_count": null,
   "outputs": [],
   "source": [
    "def numerical_gradient(f,x):\n",
    "    h = 1e-5\n",
    "    grad = np.zeros_like(x)\n",
    "    print(x,x.size)\n",
    "    for idx in range(x.size):\n",
    "        tmp_val = x[idx]\n",
    "        \n",
    "        x[idx] = tmp_val + h\n",
    "        fxh1 = f(x)\n",
    "        \n",
    "        x[idx] = tmp_val - h\n",
    "        fxh2 = f(x)\n",
    "        \n",
    "        grad[idx] = (fxh1 - fxh2) / (2*h)\n",
    "        x[idx] = tmp_val # 还原值\n",
    "    return grad\n",
    "\n",
    "res1 = numerical_gradient(function_2, np.array([3.0,4.0,5.0]))\n",
    "print(res1)\n",
    "res1 = numerical_gradient(function_2, np.array([0.0,2.0,5.0]))\n",
    "print(res1)\n",
    "res1 = numerical_gradient(function_2, np.array([3.0,0.0,5.0]))\n",
    "print(res1)"
   ],
   "metadata": {
    "collapsed": false,
    "ExecuteTime": {
     "start_time": "2023-10-28T12:14:20.457284400Z"
    }
   },
   "id": "5912e7b1439b51f2"
  },
  {
   "cell_type": "markdown",
   "source": [
    "梯度下降法"
   ],
   "metadata": {
    "collapsed": false
   },
   "id": "a60e2d74d7bbcac0"
  },
  {
   "cell_type": "code",
   "execution_count": null,
   "outputs": [],
   "source": [
    "def gradient_descent(f, init_x, lr = 0.01, step_num = 100):\n",
    "    x = init_x\n",
    "    \n",
    "    for i in range(step_num):\n",
    "        grad = numerical_gradient(f,x)\n",
    "        x -= lr* grad\n",
    "    return x\n",
    "init_x = np.array([-3.0,4.0,6.0])\n",
    "res = gradient_descent(function_2, init_x=init_x, lr = 0.001, step_num=100)\n",
    "print(res)"
   ],
   "metadata": {
    "collapsed": false,
    "ExecuteTime": {
     "start_time": "2023-10-28T12:14:20.458838600Z"
    }
   },
   "id": "4e05389a86a9eb98"
  },
  {
   "cell_type": "markdown",
   "source": [
    "神经网络的梯度"
   ],
   "metadata": {
    "collapsed": false
   },
   "id": "cea0f14ad3a658da"
  },
  {
   "cell_type": "code",
   "execution_count": null,
   "outputs": [],
   "source": [
    "import sys, os\n",
    "sys.path.append(os.pardir)\n",
    "import numpy as np\n",
    "from sample_code.common.functions import softmax, cross_entropy_error\n",
    "from sample_code.common.gradient import numerical_gradient\n",
    "class simpleNet:\n",
    "    def __init__(self):\n",
    "        self.W = np.random.randn(2,3) # 用高斯分布进行初始化\n",
    "    def predict(self, x):\n",
    "        return np.dot(x, self.W)\n",
    "    def loss(self, x, t):\n",
    "        z = self.predict(x)\n",
    "        y = softmax(z)\n",
    "        loss = cross_entropy_error(y, t)\n",
    "        return loss"
   ],
   "metadata": {
    "collapsed": false,
    "ExecuteTime": {
     "start_time": "2023-10-28T12:14:20.460909300Z"
    }
   },
   "id": "d62fe560d8766707"
  },
  {
   "cell_type": "code",
   "execution_count": null,
   "outputs": [],
   "source": [
    "net = simpleNet()\n",
    "print(net.W)\n",
    "x = np.array([0.6,0.9])\n",
    "p = net.predict(x)\n",
    "print(p)\n",
    "print(np.argmax(p))\n",
    "t = np.array([0,0,1])\n",
    "net.loss(x,t)"
   ],
   "metadata": {
    "collapsed": false,
    "ExecuteTime": {
     "start_time": "2023-10-28T12:14:20.462406900Z"
    }
   },
   "id": "eaebbc7826e5b024"
  },
  {
   "cell_type": "code",
   "execution_count": null,
   "outputs": [],
   "source": [
    "def f(W):\n",
    "    return net.loss(x,t)\n",
    "dW = numerical_gradient(f,net.W) #这里使用nditer，改变了net中的W本身，因此loss也随之变化\n",
    "print(dW)\n",
    "\n",
    "#使用lambda的版本：\n",
    "f = lambda w: net.loss(x, t)\n",
    "dW = numerical_gradient(f, net.W)"
   ],
   "metadata": {
    "collapsed": false,
    "ExecuteTime": {
     "start_time": "2023-10-28T12:14:20.464416Z"
    }
   },
   "id": "ff9a89a69fa50427"
  },
  {
   "cell_type": "markdown",
   "source": [
    "SGD：对随机选择的数据进行的梯度下降法"
   ],
   "metadata": {
    "collapsed": false
   },
   "id": "4b4b9ce3ff84abe"
  },
  {
   "cell_type": "code",
   "execution_count": null,
   "outputs": [],
   "source": [
    "import sys, os\n",
    "sys.path.append(os.pardir)\n",
    "from sample_code.common.functions import *\n",
    "from sample_code.common.gradient import numerical_gradient\n",
    "\n",
    "class TwoLayerNet:\n",
    "    \n",
    "    def __init__(self, input_size, hidden_size, output_size, weight_init_std = 0.01):\n",
    "        self.params = {}\n",
    "        self.params['W1'] = weight_init_std * np.random.randn(input_size,hidden_size)\n",
    "        self.params['b1'] = np.zeros(hidden_size)\n",
    "        \n",
    "        self.params['W2'] = weight_init_std * np.random.randn(hidden_size,output_size)\n",
    "        self.params['b2'] = np.zeros(output_size)\n",
    "        \n",
    "    def predict(self,x):\n",
    "        W1,W2 = self.params['W1'], self.params['W2']\n",
    "        b1,b2 = self.params['b1'], self.params['b2']\n",
    "        \n",
    "        a1 = np.dot(x,W1) + b1\n",
    "        z1 = sigmoid(a1)\n",
    "        a2 = np.dot(z1,W2) + b2\n",
    "        z2 = sigmoid(a2)\n",
    "        y = softmax(z2)\n",
    "        \n",
    "        return y\n",
    "    def loss(self,x,t):\n",
    "        y = self.predict(x)\n",
    "        return cross_entropy_error(y,t)\n",
    "    \n",
    "    def accuracy(self, x ,t):\n",
    "        y = self.predict(x)\n",
    "        y = np.argmax(y, axis = 1)\n",
    "        t = np.argmax(t, axis = 1)\n",
    "        \n",
    "        accuracy = np.sum(y==t) / float(x.shape[0])\n",
    "        return accuracy\n",
    "    \n",
    "    def numerical_gradient(self,x,t):\n",
    "        loss_W = lambda W: self.loss(x,t)\n",
    "        \n",
    "        grads = {}\n",
    "        grads['W1'] = numerical_gradient(loss_W, self.params['W1'])\n",
    "        grads['b1'] = numerical_gradient(loss_W, self.params['b1'])\n",
    "        grads['W2'] = numerical_gradient(loss_W, self.params['W2'])\n",
    "        grads['b2'] = numerical_gradient(loss_W, self.params['b2'])\n",
    "        return grads\n",
    "    def gradient(self, x, t):\n",
    "        W1, W2 = self.params['W1'], self.params['W2']\n",
    "        b1, b2 = self.params['b1'], self.params['b2']\n",
    "        grads = {}\n",
    "        \n",
    "        batch_num = x.shape[0]\n",
    "        \n",
    "        # forward\n",
    "        a1 = np.dot(x, W1) + b1\n",
    "        z1 = sigmoid(a1)\n",
    "        a2 = np.dot(z1, W2) + b2\n",
    "        y = softmax(a2)\n",
    "        \n",
    "        # backward\n",
    "        dy = (y - t) / batch_num\n",
    "        grads['W2'] = np.dot(z1.T, dy)\n",
    "        grads['b2'] = np.sum(dy, axis=0)\n",
    "        \n",
    "        da1 = np.dot(dy, W2.T)\n",
    "        dz1 = sigmoid_grad(a1) * da1\n",
    "        grads['W1'] = np.dot(x.T, dz1)\n",
    "        grads['b1'] = np.sum(dz1, axis=0)\n",
    "\n",
    "        return grads\n",
    "        "
   ],
   "metadata": {
    "collapsed": false,
    "ExecuteTime": {
     "start_time": "2023-10-28T12:14:20.465416400Z"
    }
   },
   "id": "1e1a619e1ac02"
  },
  {
   "cell_type": "markdown",
   "source": [
    "使用两层网络"
   ],
   "metadata": {
    "collapsed": false
   },
   "id": "c30e779d48cd40f7"
  },
  {
   "cell_type": "code",
   "execution_count": 49,
   "outputs": [
    {
     "name": "stdout",
     "output_type": "stream",
     "text": [
      "0\n",
      "(100,)\n",
      "train acc, test acc | 0.0993, 0.1032\n",
      "1\n",
      "(100,)\n",
      "2\n",
      "(100,)\n",
      "3\n",
      "(100,)\n",
      "4\n",
      "(100,)\n",
      "5\n",
      "(100,)\n",
      "6\n",
      "(100,)\n",
      "7\n",
      "(100,)\n",
      "8\n",
      "(100,)\n",
      "9\n",
      "(100,)\n",
      "10\n",
      "(100,)\n",
      "11\n",
      "(100,)\n",
      "12\n",
      "(100,)\n",
      "13\n",
      "(100,)\n",
      "14\n",
      "(100,)\n",
      "15\n",
      "(100,)\n"
     ]
    },
    {
     "ename": "KeyboardInterrupt",
     "evalue": "",
     "output_type": "error",
     "traceback": [
      "\u001B[1;31m---------------------------------------------------------------------------\u001B[0m",
      "\u001B[1;31mKeyboardInterrupt\u001B[0m                         Traceback (most recent call last)",
      "Cell \u001B[1;32mIn[49], line 25\u001B[0m\n\u001B[0;32m     23\u001B[0m t_batch \u001B[38;5;241m=\u001B[39m t_train[batch_mask]\n\u001B[0;32m     24\u001B[0m \u001B[38;5;66;03m# 计算梯度\u001B[39;00m\n\u001B[1;32m---> 25\u001B[0m grad \u001B[38;5;241m=\u001B[39m \u001B[43mnetwork\u001B[49m\u001B[38;5;241;43m.\u001B[39;49m\u001B[43mnumerical_gradient\u001B[49m\u001B[43m(\u001B[49m\u001B[43mx_batch\u001B[49m\u001B[43m,\u001B[49m\u001B[43m \u001B[49m\u001B[43mt_batch\u001B[49m\u001B[43m)\u001B[49m\n\u001B[0;32m     26\u001B[0m \u001B[38;5;66;03m# grad = network.gradient(x_batch, t_batch) # 高速版!\u001B[39;00m\n\u001B[0;32m     27\u001B[0m \u001B[38;5;66;03m# 更新参数\u001B[39;00m\n\u001B[0;32m     28\u001B[0m \u001B[38;5;28;01mfor\u001B[39;00m key \u001B[38;5;129;01min\u001B[39;00m (\u001B[38;5;124m'\u001B[39m\u001B[38;5;124mW1\u001B[39m\u001B[38;5;124m'\u001B[39m, \u001B[38;5;124m'\u001B[39m\u001B[38;5;124mb1\u001B[39m\u001B[38;5;124m'\u001B[39m, \u001B[38;5;124m'\u001B[39m\u001B[38;5;124mW2\u001B[39m\u001B[38;5;124m'\u001B[39m, \u001B[38;5;124m'\u001B[39m\u001B[38;5;124mb2\u001B[39m\u001B[38;5;124m'\u001B[39m):\n",
      "Cell \u001B[1;32mIn[43], line 43\u001B[0m, in \u001B[0;36mTwoLayerNet.numerical_gradient\u001B[1;34m(self, x, t)\u001B[0m\n\u001B[0;32m     40\u001B[0m loss_W \u001B[38;5;241m=\u001B[39m \u001B[38;5;28;01mlambda\u001B[39;00m W: \u001B[38;5;28mself\u001B[39m\u001B[38;5;241m.\u001B[39mloss(x,t)\n\u001B[0;32m     42\u001B[0m grads \u001B[38;5;241m=\u001B[39m {}\n\u001B[1;32m---> 43\u001B[0m grads[\u001B[38;5;124m'\u001B[39m\u001B[38;5;124mW1\u001B[39m\u001B[38;5;124m'\u001B[39m] \u001B[38;5;241m=\u001B[39m \u001B[43mnumerical_gradient\u001B[49m\u001B[43m(\u001B[49m\u001B[43mloss_W\u001B[49m\u001B[43m,\u001B[49m\u001B[43m \u001B[49m\u001B[38;5;28;43mself\u001B[39;49m\u001B[38;5;241;43m.\u001B[39;49m\u001B[43mparams\u001B[49m\u001B[43m[\u001B[49m\u001B[38;5;124;43m'\u001B[39;49m\u001B[38;5;124;43mW1\u001B[39;49m\u001B[38;5;124;43m'\u001B[39;49m\u001B[43m]\u001B[49m\u001B[43m)\u001B[49m\n\u001B[0;32m     44\u001B[0m grads[\u001B[38;5;124m'\u001B[39m\u001B[38;5;124mb1\u001B[39m\u001B[38;5;124m'\u001B[39m] \u001B[38;5;241m=\u001B[39m numerical_gradient(loss_W, \u001B[38;5;28mself\u001B[39m\u001B[38;5;241m.\u001B[39mparams[\u001B[38;5;124m'\u001B[39m\u001B[38;5;124mb1\u001B[39m\u001B[38;5;124m'\u001B[39m])\n\u001B[0;32m     45\u001B[0m grads[\u001B[38;5;124m'\u001B[39m\u001B[38;5;124mW2\u001B[39m\u001B[38;5;124m'\u001B[39m] \u001B[38;5;241m=\u001B[39m numerical_gradient(loss_W, \u001B[38;5;28mself\u001B[39m\u001B[38;5;241m.\u001B[39mparams[\u001B[38;5;124m'\u001B[39m\u001B[38;5;124mW2\u001B[39m\u001B[38;5;124m'\u001B[39m])\n",
      "File \u001B[1;32mD:\\LearnCodes\\深度学习入门系列\\1\\sample_code\\common\\gradient.py:46\u001B[0m, in \u001B[0;36mnumerical_gradient\u001B[1;34m(f, x)\u001B[0m\n\u001B[0;32m     43\u001B[0m fxh1 \u001B[38;5;241m=\u001B[39m f(x) \u001B[38;5;66;03m# f(x+h)\u001B[39;00m\n\u001B[0;32m     45\u001B[0m x[idx] \u001B[38;5;241m=\u001B[39m tmp_val \u001B[38;5;241m-\u001B[39m h \n\u001B[1;32m---> 46\u001B[0m fxh2 \u001B[38;5;241m=\u001B[39m \u001B[43mf\u001B[49m\u001B[43m(\u001B[49m\u001B[43mx\u001B[49m\u001B[43m)\u001B[49m \u001B[38;5;66;03m# f(x-h)\u001B[39;00m\n\u001B[0;32m     47\u001B[0m grad[idx] \u001B[38;5;241m=\u001B[39m (fxh1 \u001B[38;5;241m-\u001B[39m fxh2) \u001B[38;5;241m/\u001B[39m (\u001B[38;5;241m2\u001B[39m\u001B[38;5;241m*\u001B[39mh)\n\u001B[0;32m     49\u001B[0m x[idx] \u001B[38;5;241m=\u001B[39m tmp_val \u001B[38;5;66;03m# 还原值\u001B[39;00m\n",
      "Cell \u001B[1;32mIn[43], line 40\u001B[0m, in \u001B[0;36mTwoLayerNet.numerical_gradient.<locals>.<lambda>\u001B[1;34m(W)\u001B[0m\n\u001B[0;32m     39\u001B[0m \u001B[38;5;28;01mdef\u001B[39;00m \u001B[38;5;21mnumerical_gradient\u001B[39m(\u001B[38;5;28mself\u001B[39m,x,t):\n\u001B[1;32m---> 40\u001B[0m     loss_W \u001B[38;5;241m=\u001B[39m \u001B[38;5;28;01mlambda\u001B[39;00m W: \u001B[38;5;28;43mself\u001B[39;49m\u001B[38;5;241;43m.\u001B[39;49m\u001B[43mloss\u001B[49m\u001B[43m(\u001B[49m\u001B[43mx\u001B[49m\u001B[43m,\u001B[49m\u001B[43mt\u001B[49m\u001B[43m)\u001B[49m\n\u001B[0;32m     42\u001B[0m     grads \u001B[38;5;241m=\u001B[39m {}\n\u001B[0;32m     43\u001B[0m     grads[\u001B[38;5;124m'\u001B[39m\u001B[38;5;124mW1\u001B[39m\u001B[38;5;124m'\u001B[39m] \u001B[38;5;241m=\u001B[39m numerical_gradient(loss_W, \u001B[38;5;28mself\u001B[39m\u001B[38;5;241m.\u001B[39mparams[\u001B[38;5;124m'\u001B[39m\u001B[38;5;124mW1\u001B[39m\u001B[38;5;124m'\u001B[39m])\n",
      "Cell \u001B[1;32mIn[43], line 28\u001B[0m, in \u001B[0;36mTwoLayerNet.loss\u001B[1;34m(self, x, t)\u001B[0m\n\u001B[0;32m     27\u001B[0m \u001B[38;5;28;01mdef\u001B[39;00m \u001B[38;5;21mloss\u001B[39m(\u001B[38;5;28mself\u001B[39m,x,t):\n\u001B[1;32m---> 28\u001B[0m     y \u001B[38;5;241m=\u001B[39m \u001B[38;5;28;43mself\u001B[39;49m\u001B[38;5;241;43m.\u001B[39;49m\u001B[43mpredict\u001B[49m\u001B[43m(\u001B[49m\u001B[43mx\u001B[49m\u001B[43m)\u001B[49m\n\u001B[0;32m     29\u001B[0m     \u001B[38;5;28;01mreturn\u001B[39;00m cross_entropy_error(y,t)\n",
      "Cell \u001B[1;32mIn[43], line 20\u001B[0m, in \u001B[0;36mTwoLayerNet.predict\u001B[1;34m(self, x)\u001B[0m\n\u001B[0;32m     17\u001B[0m W1,W2 \u001B[38;5;241m=\u001B[39m \u001B[38;5;28mself\u001B[39m\u001B[38;5;241m.\u001B[39mparams[\u001B[38;5;124m'\u001B[39m\u001B[38;5;124mW1\u001B[39m\u001B[38;5;124m'\u001B[39m], \u001B[38;5;28mself\u001B[39m\u001B[38;5;241m.\u001B[39mparams[\u001B[38;5;124m'\u001B[39m\u001B[38;5;124mW2\u001B[39m\u001B[38;5;124m'\u001B[39m]\n\u001B[0;32m     18\u001B[0m b1,b2 \u001B[38;5;241m=\u001B[39m \u001B[38;5;28mself\u001B[39m\u001B[38;5;241m.\u001B[39mparams[\u001B[38;5;124m'\u001B[39m\u001B[38;5;124mb1\u001B[39m\u001B[38;5;124m'\u001B[39m], \u001B[38;5;28mself\u001B[39m\u001B[38;5;241m.\u001B[39mparams[\u001B[38;5;124m'\u001B[39m\u001B[38;5;124mb2\u001B[39m\u001B[38;5;124m'\u001B[39m]\n\u001B[1;32m---> 20\u001B[0m a1 \u001B[38;5;241m=\u001B[39m \u001B[43mnp\u001B[49m\u001B[38;5;241;43m.\u001B[39;49m\u001B[43mdot\u001B[49m\u001B[43m(\u001B[49m\u001B[43mx\u001B[49m\u001B[43m,\u001B[49m\u001B[43mW1\u001B[49m\u001B[43m)\u001B[49m \u001B[38;5;241m+\u001B[39m b1\n\u001B[0;32m     21\u001B[0m z1 \u001B[38;5;241m=\u001B[39m sigmoid(a1)\n\u001B[0;32m     22\u001B[0m a2 \u001B[38;5;241m=\u001B[39m np\u001B[38;5;241m.\u001B[39mdot(z1,W2) \u001B[38;5;241m+\u001B[39m b2\n",
      "\u001B[1;31mKeyboardInterrupt\u001B[0m: "
     ]
    }
   ],
   "source": [
    "import numpy as np\n",
    "from sample_code.dataset.mnist import load_mnist\n",
    "# from sample_code.ch04.two_layer_net import TwoLayerNet\n",
    "(x_train, t_train), (x_test, t_test) = load_mnist(normalize=True, one_hot_label = True)\n",
    "train_loss_list = []\n",
    "train_acc_list = []\n",
    "test_acc_list = []\n",
    "# 平均每个epoch的重复次数\n",
    "iter_per_epoch = max(train_size / batch_size, 1)\n",
    "# 超参数\n",
    "iters_num = 100\n",
    "train_size = x_train.shape[0]\n",
    "batch_size = 100\n",
    "learning_rate = 0.1\n",
    "\n",
    "network = TwoLayerNet(input_size=784, hidden_size=50, output_size=10)\n",
    "for i in range(iters_num):\n",
    "    print(i)\n",
    "    # 获取mini-batch\n",
    "    batch_mask = np.random.choice(train_size, batch_size)\n",
    "    print(batch_mask.shape)\n",
    "    x_batch = x_train[batch_mask]\n",
    "    t_batch = t_train[batch_mask]\n",
    "    # 计算梯度\n",
    "    grad = network.numerical_gradient(x_batch, t_batch)\n",
    "    # grad = network.gradient(x_batch, t_batch) # 高速版!\n",
    "    # 更新参数\n",
    "    for key in ('W1', 'b1', 'W2', 'b2'):\n",
    "        network.params[key] -= learning_rate * grad[key]\n",
    "    # 记录学习过程\n",
    "    loss = network.loss(x_batch, t_batch)\n",
    "    train_loss_list.append(loss)\n",
    "    # 计算每个epoch的识别精度\n",
    "    if i % iter_per_epoch == 0:\n",
    "        train_acc = network.accuracy(x_train, t_train)\n",
    "        test_acc = network.accuracy(x_test, t_test)\n",
    "        train_acc_list.append(train_acc)\n",
    "        test_acc_list.append(test_acc)\n",
    "        print(\"train acc, test acc | \" + str(train_acc) + \", \" + str(test_acc))"
   ],
   "metadata": {
    "collapsed": false,
    "ExecuteTime": {
     "end_time": "2023-10-28T12:55:19.803739Z",
     "start_time": "2023-10-28T12:29:41.439602Z"
    }
   },
   "id": "dce9a7449e2902ad"
  },
  {
   "cell_type": "code",
   "execution_count": null,
   "outputs": [],
   "source": [],
   "metadata": {
    "collapsed": false,
    "ExecuteTime": {
     "start_time": "2023-10-28T12:14:20.469417200Z"
    }
   },
   "id": "a4d07705ee0b3bfb"
  }
 ],
 "metadata": {
  "kernelspec": {
   "display_name": "Python 3",
   "language": "python",
   "name": "python3"
  },
  "language_info": {
   "codemirror_mode": {
    "name": "ipython",
    "version": 2
   },
   "file_extension": ".py",
   "mimetype": "text/x-python",
   "name": "python",
   "nbconvert_exporter": "python",
   "pygments_lexer": "ipython2",
   "version": "2.7.6"
  }
 },
 "nbformat": 4,
 "nbformat_minor": 5
}
