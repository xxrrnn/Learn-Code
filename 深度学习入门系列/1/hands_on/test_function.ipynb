{
 "cells": [
  {
   "cell_type": "markdown",
   "source": [
    "目前有的numpy函数，np.nditer"
   ],
   "metadata": {
    "collapsed": false
   },
   "id": "bf98c6b52fde014b"
  },
  {
   "cell_type": "markdown",
   "source": [
    "nditer 提供了一系列选项和标志，用于控制迭代多维数组的方式和行为。以下是一些常见选项和标志的含义：\n",
    "\n",
    "flags 选项:\n",
    "\n",
    "'c_index'：以 C 风格的顺序迭代数组元素，即按照内存中的布局顺序进行迭代。\n",
    "'f_index'：以 Fortran 风格的顺序迭代数组元素，即按照列主序（column-major order）进行迭代。\n",
    "'multi_index'：迭代时返回多维索引，允许你访问元素的位置。\n",
    "'external_loop'：迭代器只返回一维的数组，但每次迭代都返回一个子数组，用于处理多个数组。\n",
    "op_flags 选项:\n",
    "\n",
    "'readwrite'：允许读取和写入数组元素。\n",
    "'readonly'：只允许读取数组元素，不允许写入。\n",
    "'writeonly'：只允许写入数组元素，不允许读取。\n",
    "'no_broadcast'：不支持广播操作，迭代器的操作数的形状必须完全一致。\n",
    "order 选项:\n",
    "\n",
    "'C'：以 C 风格的顺序进行迭代（行主序）。\n",
    "'F'：以 Fortran 风格的顺序进行迭代（列主序）。\n",
    "flags 标志:\n",
    "\n",
    "flags=['reduce_ok']：允许迭代操作中进行降维操作，例如在求和或平均值计算时。\n",
    "flags=['buffered']：使用缓冲区来存储迭代数据，可能提高性能。\n",
    "flags=['delayed_bufalloc']：延迟分配缓冲区，用于减小内存开销。\n",
    "op_dtypes 选项:\n",
    "\n",
    "op_dtypes=['float64']：指定操作的数据类型，用于对元素进行强制类型转换。\n",
    "order 选项:\n",
    "\n",
    "'K'：根据数组的内存布局（可能是 C 或 Fortran 风格）自动选择最佳的迭代顺序。\n",
    "这些选项和标志允许你根据需要配置 nditer 来满足不同的迭代需求，无论是按行、按列、按块还是其他方式迭代多维数组。你可以根据具体的应用场景选择适当的选项和标志来优化迭代性能和操作。根据你的具体需求，可以组合和调整这些选项来实现更复杂的迭代行为。"
   ],
   "metadata": {
    "collapsed": false
   },
   "id": "fbb6df42eac6561a"
  },
  {
   "cell_type": "code",
   "execution_count": 4,
   "outputs": [
    {
     "name": "stdout",
     "output_type": "stream",
     "text": [
      "Current Index: (0, 0)\n",
      "Current Value: 1\n",
      "Current Index: (0, 1)\n",
      "Current Value: 2\n",
      "Current Index: (0, 2)\n",
      "Current Value: 3\n",
      "Current Index: (1, 0)\n",
      "Current Value: 4\n",
      "Current Index: (1, 1)\n",
      "Current Value: 5\n",
      "Current Index: (1, 2)\n",
      "Current Value: 6\n",
      "Current Index: (2, 0)\n",
      "Current Value: 7\n",
      "Current Index: (2, 1)\n",
      "Current Value: 8\n",
      "Current Index: (2, 2)\n",
      "Current Value: 9\n"
     ]
    }
   ],
   "source": [
    "import numpy as np\n",
    "arr = np.array([[1, 2, 3], [4, 5, 6], [7, 8, 9]])\n",
    "# 创建一个 nditer 对象\n",
    "it = np.nditer(arr, flags=['multi_index'], op_flags=['readwrite'])\n",
    "\n",
    "\n",
    "# 使用循环来遍历数组元素\n",
    "while not it.finished:\n",
    "    print(\"Current Index:\", it.multi_index)\n",
    "    print(\"Current Value:\", arr[it.multi_index])\n",
    "\n",
    "    # 在这里可以对数组元素进行操作，例如修改值\n",
    "    arr[it.multi_index] += 10\n",
    "\n",
    "    it.iternext()  # 移动到下一个元素\n"
   ],
   "metadata": {
    "collapsed": false,
    "ExecuteTime": {
     "end_time": "2023-11-01T06:37:59.430742500Z",
     "start_time": "2023-11-01T06:37:59.415132600Z"
    }
   },
   "id": "89b37c41460e8dce"
  },
  {
   "cell_type": "code",
   "execution_count": null,
   "outputs": [],
   "source": [],
   "metadata": {
    "collapsed": false
   },
   "id": "1e6a58e9cb47d9cd"
  }
 ],
 "metadata": {
  "kernelspec": {
   "display_name": "Python 3",
   "language": "python",
   "name": "python3"
  },
  "language_info": {
   "codemirror_mode": {
    "name": "ipython",
    "version": 2
   },
   "file_extension": ".py",
   "mimetype": "text/x-python",
   "name": "python",
   "nbconvert_exporter": "python",
   "pygments_lexer": "ipython2",
   "version": "2.7.6"
  }
 },
 "nbformat": 4,
 "nbformat_minor": 5
}
